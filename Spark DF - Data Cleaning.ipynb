{
 "cells": [
  {
   "cell_type": "markdown",
   "metadata": {},
   "source": [
    "# Spark DF - Data Cleaning\n",
    "Now that you understand the basics of Spark DataFrames, let's move on to a more relevant example: Cleaning data using the PySpark API. \n",
    "\n",
    "This tutorial is adapted from Stack Overflow and the PySpark documentation. Find out more here:\n",
    "- https://stackoverflow.com/questions/37749759/fill-pyspark-dataframe-column-null-values-with-average-value-from-same-column\n",
    "- http://spark.apache.org/docs/2.1.0/api/python/pyspark.sql.html\n",
    "\n",
    "Objective: Let's explore our options when it comes to cleaning a dataset. We'll be using the same dataset used in the Spark DF - Basics tutorial. Remember, the dataset is used to predict whether or not a client will subscribe to a term deposit (deposit column) if called by the banks call centre reps. "
   ]
  },
  {
   "cell_type": "code",
   "execution_count": 1,
   "metadata": {},
   "outputs": [],
   "source": [
    "# Section must be included at the beginning of each new notebook. Remember to change the app name. \n",
    "# If you're using VirtualBox, change the below to '/home/user/spark-2.1.1-bin-hadoop2.7'\n",
    "import findspark\n",
    "findspark.init('/home/ubuntu/spark-2.1.1-bin-hadoop2.7')\n",
    "import pyspark\n",
    "from pyspark.sql import SparkSession\n",
    "spark = SparkSession.builder.appName('missing').getOrCreate()"
   ]
  },
  {
   "cell_type": "code",
   "execution_count": 2,
   "metadata": {},
   "outputs": [
    {
     "name": "stdout",
     "output_type": "stream",
     "text": [
      "+---+-----------+--------+---------+-------+-------+----+--------+-------+\n",
      "|age|        job| marital|education|balance|housing|loan|duration|deposit|\n",
      "+---+-----------+--------+---------+-------+-------+----+--------+-------+\n",
      "| 59|     admin.|    null|secondary|   2343|    yes|  no|    1042|    yes|\n",
      "| 56|     admin.| married|secondary|   null|     no|  no|    1467|    yes|\n",
      "| 41| technician| married|secondary|   1270|    yes|  no|    1389|    yes|\n",
      "| 55|   services|    null|secondary|   null|    yes|  no|     579|    yes|\n",
      "| 54|     admin.| married| tertiary|    184|     no|  no|     673|    yes|\n",
      "| 42| management|    null| tertiary|      0|    yes| yes|     562|    yes|\n",
      "| 56| management| married| tertiary|    830|    yes| yes|    1201|    yes|\n",
      "| 60|    retired|    null|secondary|    545|    yes|  no|    1030|    yes|\n",
      "| 37| technician| married|secondary|      1|    yes|  no|     608|    yes|\n",
      "| 28|   services|    null|secondary|   null|    yes|  no|    1297|    yes|\n",
      "| 38|     admin.|  single|secondary|    100|    yes|  no|     786|    yes|\n",
      "| 30|blue-collar| married|secondary|    309|    yes|  no|    1574|    yes|\n",
      "| 29| management| married| tertiary|    199|    yes| yes|    1689|    yes|\n",
      "| 46|blue-collar|  single| tertiary|    460|    yes|  no|    1102|    yes|\n",
      "| 31| technician|  single| tertiary|    703|    yes|  no|     943|    yes|\n",
      "| 35| management|divorced| tertiary|   3837|    yes|  no|    1084|    yes|\n",
      "| 32|blue-collar|  single|  primary|   null|    yes|  no|     541|    yes|\n",
      "| 49|   services| married|secondary|     -8|    yes|  no|    1119|    yes|\n",
      "| 41|     admin.| married|secondary|     55|    yes|  no|    1120|    yes|\n",
      "| 49|     admin.|divorced|secondary|    168|    yes| yes|     513|    yes|\n",
      "+---+-----------+--------+---------+-------+-------+----+--------+-------+\n",
      "only showing top 20 rows\n",
      "\n",
      "Total data points: 100\n"
     ]
    }
   ],
   "source": [
    "# Importing data which has a header and automatically configuring the schema.\n",
    "df = spark.read.csv('Datasets/dataframe_dataset.csv', header=True, inferSchema=True)\n",
    "\n",
    "# Let's visually inspect the data. You may notice some nulls in the marital and balance column. \n",
    "df.show()\n",
    "\n",
    "# Let's see how many rows of data we originally have.\n",
    "print(\"Total data points:\", df.count())"
   ]
  },
  {
   "cell_type": "markdown",
   "metadata": {},
   "source": [
    "## Dropping Rows - Missing Data Point \n",
    "Spark can drop any row with missing data. Let's see how that's done!"
   ]
  },
  {
   "cell_type": "code",
   "execution_count": 3,
   "metadata": {},
   "outputs": [
    {
     "name": "stdout",
     "output_type": "stream",
     "text": [
      "+---+-----------+--------+---------+-------+-------+----+--------+-------+\n",
      "|age|        job| marital|education|balance|housing|loan|duration|deposit|\n",
      "+---+-----------+--------+---------+-------+-------+----+--------+-------+\n",
      "| 41| technician| married|secondary|   1270|    yes|  no|    1389|    yes|\n",
      "| 54|     admin.| married| tertiary|    184|     no|  no|     673|    yes|\n",
      "| 56| management| married| tertiary|    830|    yes| yes|    1201|    yes|\n",
      "| 37| technician| married|secondary|      1|    yes|  no|     608|    yes|\n",
      "| 38|     admin.|  single|secondary|    100|    yes|  no|     786|    yes|\n",
      "| 30|blue-collar| married|secondary|    309|    yes|  no|    1574|    yes|\n",
      "| 29| management| married| tertiary|    199|    yes| yes|    1689|    yes|\n",
      "| 46|blue-collar|  single| tertiary|    460|    yes|  no|    1102|    yes|\n",
      "| 31| technician|  single| tertiary|    703|    yes|  no|     943|    yes|\n",
      "| 35| management|divorced| tertiary|   3837|    yes|  no|    1084|    yes|\n",
      "| 49|   services| married|secondary|     -8|    yes|  no|    1119|    yes|\n",
      "| 41|     admin.| married|secondary|     55|    yes|  no|    1120|    yes|\n",
      "| 49|     admin.|divorced|secondary|    168|    yes| yes|     513|    yes|\n",
      "| 28|     admin.|divorced|secondary|    785|    yes|  no|     442|    yes|\n",
      "| 43| management|  single| tertiary|   2067|    yes|  no|     756|    yes|\n",
      "| 43| management|divorced| tertiary|    388|    yes|  no|    2087|    yes|\n",
      "| 43|blue-collar| married|  primary|   -192|    yes|  no|    1120|    yes|\n",
      "| 37| unemployed|  single|secondary|    381|    yes|  no|     985|    yes|\n",
      "| 35|blue-collar|  single|secondary|     40|    yes|  no|     617|    yes|\n",
      "| 31| technician|  single| tertiary|     22|    yes|  no|     483|    yes|\n",
      "+---+-----------+--------+---------+-------+-------+----+--------+-------+\n",
      "only showing top 20 rows\n",
      "\n",
      "Total data points: 100\n"
     ]
    }
   ],
   "source": [
    "# 'na' stands for Not Available. Using na, we can then use drop. \n",
    "# After using show, you'll find that the rows with the null values are gone. \n",
    "df.na.drop().show()\n",
    "\n",
    "# Let's see how many rows of data we have now. \n",
    "print(\"Total data points:\", df.count())"
   ]
  },
  {
   "cell_type": "code",
   "execution_count": 4,
   "metadata": {},
   "outputs": [
    {
     "name": "stdout",
     "output_type": "stream",
     "text": [
      "+---+-----------+--------+---------+-------+-------+----+--------+-------+\n",
      "|age|        job| marital|education|balance|housing|loan|duration|deposit|\n",
      "+---+-----------+--------+---------+-------+-------+----+--------+-------+\n",
      "| 41| technician| married|secondary|   1270|    yes|  no|    1389|    yes|\n",
      "| 54|     admin.| married| tertiary|    184|     no|  no|     673|    yes|\n",
      "| 56| management| married| tertiary|    830|    yes| yes|    1201|    yes|\n",
      "| 37| technician| married|secondary|      1|    yes|  no|     608|    yes|\n",
      "| 38|     admin.|  single|secondary|    100|    yes|  no|     786|    yes|\n",
      "| 30|blue-collar| married|secondary|    309|    yes|  no|    1574|    yes|\n",
      "| 29| management| married| tertiary|    199|    yes| yes|    1689|    yes|\n",
      "| 46|blue-collar|  single| tertiary|    460|    yes|  no|    1102|    yes|\n",
      "| 31| technician|  single| tertiary|    703|    yes|  no|     943|    yes|\n",
      "| 35| management|divorced| tertiary|   3837|    yes|  no|    1084|    yes|\n",
      "| 49|   services| married|secondary|     -8|    yes|  no|    1119|    yes|\n",
      "| 41|     admin.| married|secondary|     55|    yes|  no|    1120|    yes|\n",
      "| 49|     admin.|divorced|secondary|    168|    yes| yes|     513|    yes|\n",
      "| 28|     admin.|divorced|secondary|    785|    yes|  no|     442|    yes|\n",
      "| 43| management|  single| tertiary|   2067|    yes|  no|     756|    yes|\n",
      "| 43| management|divorced| tertiary|    388|    yes|  no|    2087|    yes|\n",
      "| 43|blue-collar| married|  primary|   -192|    yes|  no|    1120|    yes|\n",
      "| 37| unemployed|  single|secondary|    381|    yes|  no|     985|    yes|\n",
      "| 35|blue-collar|  single|secondary|     40|    yes|  no|     617|    yes|\n",
      "| 31| technician|  single| tertiary|     22|    yes|  no|     483|    yes|\n",
      "+---+-----------+--------+---------+-------+-------+----+--------+-------+\n",
      "only showing top 20 rows\n",
      "\n",
      "Total data points: 93\n"
     ]
    }
   ],
   "source": [
    "# Oops! Forgot to assign the result to a variable. Let's try that again. Now you can see that 7 rows have been removed.\n",
    "dropped_df = df.na.drop()\n",
    "dropped_df.show()\n",
    "print(\"Total data points:\", dropped_df.count())"
   ]
  },
  {
   "cell_type": "markdown",
   "metadata": {},
   "source": [
    "## Dropping Rows - Missing Field\n",
    "What about data missing in a particular field? \n",
    "\n",
    "Using subset, we're able to specify that if data in a particular feature is missing, then the entire row should be dropped. Let's see how that works. "
   ]
  },
  {
   "cell_type": "code",
   "execution_count": 5,
   "metadata": {},
   "outputs": [
    {
     "name": "stdout",
     "output_type": "stream",
     "text": [
      "+---+-----------+--------+---------+-------+-------+----+--------+-------+\n",
      "|age|        job| marital|education|balance|housing|loan|duration|deposit|\n",
      "+---+-----------+--------+---------+-------+-------+----+--------+-------+\n",
      "| 56|     admin.| married|secondary|   null|     no|  no|    1467|    yes|\n",
      "| 41| technician| married|secondary|   1270|    yes|  no|    1389|    yes|\n",
      "| 54|     admin.| married| tertiary|    184|     no|  no|     673|    yes|\n",
      "| 56| management| married| tertiary|    830|    yes| yes|    1201|    yes|\n",
      "| 37| technician| married|secondary|      1|    yes|  no|     608|    yes|\n",
      "| 38|     admin.|  single|secondary|    100|    yes|  no|     786|    yes|\n",
      "| 30|blue-collar| married|secondary|    309|    yes|  no|    1574|    yes|\n",
      "| 29| management| married| tertiary|    199|    yes| yes|    1689|    yes|\n",
      "| 46|blue-collar|  single| tertiary|    460|    yes|  no|    1102|    yes|\n",
      "| 31| technician|  single| tertiary|    703|    yes|  no|     943|    yes|\n",
      "| 35| management|divorced| tertiary|   3837|    yes|  no|    1084|    yes|\n",
      "| 32|blue-collar|  single|  primary|   null|    yes|  no|     541|    yes|\n",
      "| 49|   services| married|secondary|     -8|    yes|  no|    1119|    yes|\n",
      "| 41|     admin.| married|secondary|     55|    yes|  no|    1120|    yes|\n",
      "| 49|     admin.|divorced|secondary|    168|    yes| yes|     513|    yes|\n",
      "| 28|     admin.|divorced|secondary|    785|    yes|  no|     442|    yes|\n",
      "| 43| management|  single| tertiary|   2067|    yes|  no|     756|    yes|\n",
      "| 43| management|divorced| tertiary|    388|    yes|  no|    2087|    yes|\n",
      "| 43|blue-collar| married|  primary|   -192|    yes|  no|    1120|    yes|\n",
      "| 37| unemployed|  single|secondary|    381|    yes|  no|     985|    yes|\n",
      "+---+-----------+--------+---------+-------+-------+----+--------+-------+\n",
      "only showing top 20 rows\n",
      "\n",
      "Total data points: 95\n"
     ]
    }
   ],
   "source": [
    "missing_field_df = df.na.drop(subset=\"marital\")\n",
    "missing_field_df.show()\n",
    "print(\"Total data points:\", missing_field_df.count())"
   ]
  },
  {
   "cell_type": "markdown",
   "metadata": {},
   "source": [
    "Interesting! Looks like five data points in the marital feature are missing. "
   ]
  },
  {
   "cell_type": "markdown",
   "metadata": {},
   "source": [
    "## Filling Null Values\n",
    "Instead of just exploring the quality of the data, we can also fill a missing value with some text. Let's see how that's done. "
   ]
  },
  {
   "cell_type": "code",
   "execution_count": 6,
   "metadata": {},
   "outputs": [
    {
     "name": "stdout",
     "output_type": "stream",
     "text": [
      "+---+-----------+-----------+---------+-------+-------+----+--------+-------+\n",
      "|age|        job|    marital|education|balance|housing|loan|duration|deposit|\n",
      "+---+-----------+-----------+---------+-------+-------+----+--------+-------+\n",
      "| 59|     admin.|UNDISCLOSED|secondary|   2343|    yes|  no|    1042|    yes|\n",
      "| 56|     admin.|    married|secondary|   null|     no|  no|    1467|    yes|\n",
      "| 41| technician|    married|secondary|   1270|    yes|  no|    1389|    yes|\n",
      "| 55|   services|UNDISCLOSED|secondary|   null|    yes|  no|     579|    yes|\n",
      "| 54|     admin.|    married| tertiary|    184|     no|  no|     673|    yes|\n",
      "| 42| management|UNDISCLOSED| tertiary|      0|    yes| yes|     562|    yes|\n",
      "| 56| management|    married| tertiary|    830|    yes| yes|    1201|    yes|\n",
      "| 60|    retired|UNDISCLOSED|secondary|    545|    yes|  no|    1030|    yes|\n",
      "| 37| technician|    married|secondary|      1|    yes|  no|     608|    yes|\n",
      "| 28|   services|UNDISCLOSED|secondary|   null|    yes|  no|    1297|    yes|\n",
      "| 38|     admin.|     single|secondary|    100|    yes|  no|     786|    yes|\n",
      "| 30|blue-collar|    married|secondary|    309|    yes|  no|    1574|    yes|\n",
      "| 29| management|    married| tertiary|    199|    yes| yes|    1689|    yes|\n",
      "| 46|blue-collar|     single| tertiary|    460|    yes|  no|    1102|    yes|\n",
      "| 31| technician|     single| tertiary|    703|    yes|  no|     943|    yes|\n",
      "| 35| management|   divorced| tertiary|   3837|    yes|  no|    1084|    yes|\n",
      "| 32|blue-collar|     single|  primary|   null|    yes|  no|     541|    yes|\n",
      "| 49|   services|    married|secondary|     -8|    yes|  no|    1119|    yes|\n",
      "| 41|     admin.|    married|secondary|     55|    yes|  no|    1120|    yes|\n",
      "| 49|     admin.|   divorced|secondary|    168|    yes| yes|     513|    yes|\n",
      "+---+-----------+-----------+---------+-------+-------+----+--------+-------+\n",
      "only showing top 20 rows\n",
      "\n"
     ]
    }
   ],
   "source": [
    "# It's good practice to specify the column to be filled. \n",
    "# In this case, as we know that marital has some missing values, let's fill the null values with the text \"UNDISCLOSED\".\n",
    "filled_df = df.na.fill('UNDISCLOSED', subset=['marital'])\n",
    "filled_df.show()"
   ]
  },
  {
   "cell_type": "code",
   "execution_count": 7,
   "metadata": {},
   "outputs": [
    {
     "name": "stdout",
     "output_type": "stream",
     "text": [
      "+------------------+\n",
      "|      avg(balance)|\n",
      "+------------------+\n",
      "|1074.5520833333333|\n",
      "+------------------+\n",
      "\n",
      "[Row(avg(balance)=1074.5520833333333)]\n",
      "Row(avg(balance)=1074.5520833333333)\n",
      "1074.5520833333333\n"
     ]
    }
   ],
   "source": [
    "# For integer type features, you may want to replace the null value the average of that feature.\n",
    "# Let's see how that's done using balance as an example.\n",
    "from pyspark.sql.functions import mean\n",
    "\n",
    "# Let's find the average. But the problem is, how do we get that information out of the DataFrame?\n",
    "mean_balance = df.select(mean('balance')).show()\n",
    "\n",
    "# We can use collect to return the DataFrame as a Python list. But this still doesn't look correct. \n",
    "# How do we remove all the outer layers and simply extract the value?\n",
    "mean_balance = df.select(mean('balance')).collect()\n",
    "print(mean_balance)\n",
    "\n",
    "# In this case, we'll need to use indexes. As it's a list, each piece of data has a unique place.\n",
    "# If we look at the first place (0), you see that the outer brackets are stripped.\n",
    "mean_balance = mean_balance[0]\n",
    "print(mean_balance)\n",
    "\n",
    "# If we refer to the index again, the rest of outer information is stripped and we're finally left with the raw value!\n",
    "mean_balance = mean_balance[0]\n",
    "print(mean_balance)"
   ]
  },
  {
   "cell_type": "code",
   "execution_count": 8,
   "metadata": {},
   "outputs": [
    {
     "name": "stdout",
     "output_type": "stream",
     "text": [
      "+---+-----------+-----------+---------+-------+-------+----+--------+-------+\n",
      "|age|        job|    marital|education|balance|housing|loan|duration|deposit|\n",
      "+---+-----------+-----------+---------+-------+-------+----+--------+-------+\n",
      "| 59|     admin.|UNDISCLOSED|secondary|   2343|    yes|  no|    1042|    yes|\n",
      "| 56|     admin.|    married|secondary|   1074|     no|  no|    1467|    yes|\n",
      "| 41| technician|    married|secondary|   1270|    yes|  no|    1389|    yes|\n",
      "| 55|   services|UNDISCLOSED|secondary|   1074|    yes|  no|     579|    yes|\n",
      "| 54|     admin.|    married| tertiary|    184|     no|  no|     673|    yes|\n",
      "| 42| management|UNDISCLOSED| tertiary|      0|    yes| yes|     562|    yes|\n",
      "| 56| management|    married| tertiary|    830|    yes| yes|    1201|    yes|\n",
      "| 60|    retired|UNDISCLOSED|secondary|    545|    yes|  no|    1030|    yes|\n",
      "| 37| technician|    married|secondary|      1|    yes|  no|     608|    yes|\n",
      "| 28|   services|UNDISCLOSED|secondary|   1074|    yes|  no|    1297|    yes|\n",
      "| 38|     admin.|     single|secondary|    100|    yes|  no|     786|    yes|\n",
      "| 30|blue-collar|    married|secondary|    309|    yes|  no|    1574|    yes|\n",
      "| 29| management|    married| tertiary|    199|    yes| yes|    1689|    yes|\n",
      "| 46|blue-collar|     single| tertiary|    460|    yes|  no|    1102|    yes|\n",
      "| 31| technician|     single| tertiary|    703|    yes|  no|     943|    yes|\n",
      "| 35| management|   divorced| tertiary|   3837|    yes|  no|    1084|    yes|\n",
      "| 32|blue-collar|     single|  primary|   1074|    yes|  no|     541|    yes|\n",
      "| 49|   services|    married|secondary|     -8|    yes|  no|    1119|    yes|\n",
      "| 41|     admin.|    married|secondary|     55|    yes|  no|    1120|    yes|\n",
      "| 49|     admin.|   divorced|secondary|    168|    yes| yes|     513|    yes|\n",
      "+---+-----------+-----------+---------+-------+-------+----+--------+-------+\n",
      "only showing top 20 rows\n",
      "\n"
     ]
    }
   ],
   "source": [
    "# Now, we can fill the missing values with the mean. \n",
    "# As the mean is 1074, you'll see 1074 instead of null in the balance column.\n",
    "filled_df = filled_df.na.fill(mean_balance, subset=['balance'])\n",
    "filled_df.show()"
   ]
  },
  {
   "cell_type": "markdown",
   "metadata": {},
   "source": [
    "Great work! Our DataFrame now has zero missing values. Try figuring out a way to prove that there are no missing values.\n",
    "\n",
    "At this stage, we're done with DataFrames. Please remember that this material will take some time to sink in, so keep practicing and reading documentation! "
   ]
  }
 ],
 "metadata": {
  "kernelspec": {
   "display_name": "Python 3",
   "language": "python",
   "name": "python3"
  },
  "language_info": {
   "codemirror_mode": {
    "name": "ipython",
    "version": 3
   },
   "file_extension": ".py",
   "mimetype": "text/x-python",
   "name": "python",
   "nbconvert_exporter": "python",
   "pygments_lexer": "ipython3",
   "version": "3.5.2"
  }
 },
 "nbformat": 4,
 "nbformat_minor": 2
}
